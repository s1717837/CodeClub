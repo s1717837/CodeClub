{
 "cells": [
  {
   "cell_type": "markdown",
   "metadata": {},
   "source": [
    "# Part 1: The Basics\n",
    "**Import some useful packages:** <br>\n",
    "pandas (pd) is used to read and use data in tables (DataFrames) <br>\n",
    "matplotlib (plt) is used to make graphs (Plots) <br>\n",
    "\n",
    "Usually we import all of the packages we need at the top of the page, so we can easily keep track of them"
   ]
  },
  {
   "cell_type": "code",
   "execution_count": 42,
   "metadata": {},
   "outputs": [],
   "source": [
    "import matplotlib.pyplot as plt\n",
    "import pandas as pd"
   ]
  },
  {
   "cell_type": "markdown",
   "metadata": {},
   "source": [
    "**Top Tip #1**<br>\n",
    "Printing your output"
   ]
  },
  {
   "cell_type": "code",
   "execution_count": 1,
   "metadata": {},
   "outputs": [
    {
     "name": "stdout",
     "output_type": "stream",
     "text": [
      "This is how you print some text\n"
     ]
    }
   ],
   "source": [
    "# Use the hash (#) to add comments to your code\n",
    "print('This is how you print some text')"
   ]
  },
  {
   "cell_type": "code",
   "execution_count": 3,
   "metadata": {},
   "outputs": [
    {
     "name": "stdout",
     "output_type": "stream",
     "text": [
      "10\n"
     ]
    }
   ],
   "source": [
    "print(10) # you can print text (called a String) or numbers"
   ]
  },
  {
   "cell_type": "markdown",
   "metadata": {},
   "source": [
    "**Top Tip #2** <br>\n",
    "Quick maths"
   ]
  },
  {
   "cell_type": "code",
   "execution_count": 4,
   "metadata": {
    "scrolled": true
   },
   "outputs": [
    {
     "name": "stdout",
     "output_type": "stream",
     "text": [
      "19\n",
      "16\n"
     ]
    }
   ],
   "source": [
    "# Python already has some basic maths functions\n",
    "print(9+10)\n",
    "print(4*4)"
   ]
  },
  {
   "cell_type": "markdown",
   "metadata": {},
   "source": [
    "**Top Tip #3**<br>\n",
    "Variables and data types\n",
    "\n",
    "- In python, you can assign a value to something using '='<br>\n",
    "- Once it has a value, it is called a variable and can be used by any other code after that point<br>\n",
    "- You can call your variables anything you want (as long as there are no spaces), and it is good practice to give them informative names so other people can use your code and understand what is going on"
   ]
  },
  {
   "cell_type": "code",
   "execution_count": 35,
   "metadata": {},
   "outputs": [],
   "source": [
    "# Try assigning a value to something\n",
    "katies_favourite_number = 13\n",
    "my_favourite_number = ___ # ADD YOUR NUMBER HERE"
   ]
  },
  {
   "cell_type": "code",
   "execution_count": 36,
   "metadata": {},
   "outputs": [
    {
     "name": "stdout",
     "output_type": "stream",
     "text": [
      "4\n"
     ]
    }
   ],
   "source": [
    "# Now we have variables called katies_favourite_number and my_favourite_number, we can do thing to them like print:\n",
    "print(my_favourite_number)"
   ]
  },
  {
   "cell_type": "markdown",
   "metadata": {},
   "source": [
    "Everything in python has a data type, which defines what it is and what we can do with it<br>\n",
    "Some common data types in python are:<br>\n",
    " - Integer (int): whole numbers such as 1, 100, 200\n",
    " - Float (float): numbers with a decimal point such as 1.5, 4.99\n",
    " - String (str): a sequence of text characters such as 'hello', 'green'\n",
    " - List (list): a sequence of objects (each object can be a different type) such as [1,2,3], [5, 'green', 4.5]"
   ]
  },
  {
   "cell_type": "code",
   "execution_count": 37,
   "metadata": {},
   "outputs": [
    {
     "data": {
      "text/plain": [
       "int"
      ]
     },
     "execution_count": 37,
     "metadata": {},
     "output_type": "execute_result"
    }
   ],
   "source": [
    "# let's see what data type your favourite number is\n",
    "type(my_favourite_number)"
   ]
  },
  {
   "cell_type": "code",
   "execution_count": 38,
   "metadata": {},
   "outputs": [
    {
     "data": {
      "text/plain": [
       "17"
      ]
     },
     "execution_count": 38,
     "metadata": {},
     "output_type": "execute_result"
    }
   ],
   "source": [
    "# because it is a number, we can do some maths functions on it\n",
    "my_favourite_number + katies_favourite_number"
   ]
  },
  {
   "cell_type": "markdown",
   "metadata": {},
   "source": [
    "A common error message to get in python is a *TypeError*<br>\n",
    "This happens when we try to do something using the wrong data types, and python is not able to perform the operation"
   ]
  },
  {
   "cell_type": "code",
   "execution_count": 39,
   "metadata": {},
   "outputs": [
    {
     "ename": "TypeError",
     "evalue": "unsupported operand type(s) for +: 'int' and 'str'",
     "output_type": "error",
     "traceback": [
      "\u001b[1;31m---------------------------------------------------------------------------\u001b[0m",
      "\u001b[1;31mTypeError\u001b[0m                                 Traceback (most recent call last)",
      "\u001b[1;32m<ipython-input-39-0beb135db3d5>\u001b[0m in \u001b[0;36m<module>\u001b[1;34m\u001b[0m\n\u001b[0;32m      1\u001b[0m \u001b[1;31m# Let's see what happens when we try to add a number (int) to a word (string)\u001b[0m\u001b[1;33m\u001b[0m\u001b[1;33m\u001b[0m\u001b[1;33m\u001b[0m\u001b[0m\n\u001b[1;32m----> 2\u001b[1;33m \u001b[1;36m4\u001b[0m \u001b[1;33m+\u001b[0m \u001b[1;34m'green'\u001b[0m\u001b[1;33m\u001b[0m\u001b[1;33m\u001b[0m\u001b[0m\n\u001b[0m",
      "\u001b[1;31mTypeError\u001b[0m: unsupported operand type(s) for +: 'int' and 'str'"
     ]
    }
   ],
   "source": [
    "# Let's see what happens when we try to add a number (int) to a word (string)\n",
    "4 + 'green'"
   ]
  },
  {
   "cell_type": "markdown",
   "metadata": {},
   "source": [
    "# Part 2\n",
    "**Making some Graphs!**\n",
    "\n",
    "Matplotlib is a 'library' which provides us with lots of useful functions for data visualisation\n",
    "We imported it at the top of this notebook, so we can start using it on whatever data we want <br>\n",
    "\n",
    "You can check out the documentation here: https://matplotlib.org/stable/tutorials/pyplot.html\n",
    "\n",
    "- Whenever you want to use a function from matplotlib, we have to write **plt.** before the function name, so python knows where to look\n",
    "- Then we tell it the function name\n",
    "- Finally, we have to provide some inputs in brackets after the function name. If the function does not require any inputs then we still use brackets, but they will be empty()"
   ]
  },
  {
   "cell_type": "code",
   "execution_count": 46,
   "metadata": {},
   "outputs": [],
   "source": [
    "# first, let's define some data\n",
    "x = [1,2,3,4]\n",
    "y = [2,4,6,8]"
   ]
  },
  {
   "cell_type": "code",
   "execution_count": 54,
   "metadata": {},
   "outputs": [
    {
     "data": {
      "image/png": "[encoded data removed]",
      "text/plain": [
       "<Figure size 432x288 with 1 Axes>"
      ]
     },
     "metadata": {
      "needs_background": "light"
     },
     "output_type": "display_data"
    }
   ],
   "source": [
    "# now we can create a graph using the plot() function\n",
    "# x and y are the inputs to the function, so we include them inside the brackets\n",
    "plt.plot(x, y)\n",
    "# plt.show() is a bit like the 'print' function, but for graphs\n",
    "plt.show()"
   ]
  },
  {
   "cell_type": "code",
   "execution_count": 64,
   "metadata": {},
   "outputs": [
    {
     "data": {
      "image/png": "[encoded data removed]",
      "text/plain": [
       "<Figure size 432x288 with 1 Axes>"
      ]
     },
     "metadata": {
      "needs_background": "light"
     },
     "output_type": "display_data"
    }
   ],
   "source": [
    "# Now let's add some labels to our graph\n",
    "plt.plot(x, y)\n",
    "plt.xlabel('X Values')\n",
    "plt.ylabel('Y Values')\n",
    "\n",
    "plt.show()"
   ]
  },
  {
   "cell_type": "code",
   "execution_count": 65,
   "metadata": {
    "scrolled": true
   },
   "outputs": [
    {
     "data": {
      "image/png": "[encoded data removed]",
      "text/plain": [
       "<Figure size 432x288 with 1 Axes>"
      ]
     },
     "metadata": {
      "needs_background": "light"
     },
     "output_type": "display_data"
    }
   ],
   "source": [
    "# Try defining some different X and Y values and visualising the output\n",
    "x_new = [___]\n",
    "y_new = [___]\n",
    "\n",
    "plt.plot(___, ___)\n",
    "\n",
    "plt.show()"
   ]
  },
  {
   "attachments": {
    "OIG.jpg": {
     "image/jpeg": "[encoded data removed]"
    }
   },
   "cell_type": "markdown",
   "metadata": {},
   "source": [
    "# Part 3\n",
    "It's Panda time\n",
    "![OIG.jpg](attachment:OIG.jpg)<br>\n",
    "\n",
    "- Pandas is a library which allows us to use data in tables (called a **DataFrame**)\n",
    "- Once we have created a DataFrame, we can apply functions to it using a dot (**.**) after the dataframe name, then giving the function name (and inputs)"
   ]
  },
  {
   "cell_type": "code",
   "execution_count": 80,
   "metadata": {},
   "outputs": [],
   "source": [
    "# First, let's create our dataframe and call it 'df'\n",
    "# Don't worry about this part - we are just setting up some sample data\n",
    "names = ['Roisin', 'Cerys', 'Gintare', 'Katie']\n",
    "cities = ['London', 'London', 'Aberdeen', 'Edinburgh']\n",
    "colours = ['Green', 'Blue', 'Orange', 'Pink']\n",
    "heights = [160, 165, 171, 168]\n",
    "df = pd.DataFrame({'name': names, 'city': cities, 'favourite_colour': colours, 'height': heights})"
   ]
  },
  {
   "cell_type": "code",
   "execution_count": 82,
   "metadata": {},
   "outputs": [
    {
     "data": {
      "text/html": [
       "<div>\n",
       "<style scoped>\n",
       "    .dataframe tbody tr th:only-of-type {\n",
       "        vertical-align: middle;\n",
       "    }\n",
       "\n",
       "    .dataframe tbody tr th {\n",
       "        vertical-align: top;\n",
       "    }\n",
       "\n",
       "    .dataframe thead th {\n",
       "        text-align: right;\n",
       "    }\n",
       "</style>\n",
       "<table border=\"1\" class=\"dataframe\">\n",
       "  <thead>\n",
       "    <tr style=\"text-align: right;\">\n",
       "      <th></th>\n",
       "      <th>name</th>\n",
       "      <th>city</th>\n",
       "      <th>favourite_colour</th>\n",
       "      <th>height</th>\n",
       "    </tr>\n",
       "  </thead>\n",
       "  <tbody>\n",
       "    <tr>\n",
       "      <th>0</th>\n",
       "      <td>Roisin</td>\n",
       "      <td>London</td>\n",
       "      <td>Green</td>\n",
       "      <td>160</td>\n",
       "    </tr>\n",
       "    <tr>\n",
       "      <th>1</th>\n",
       "      <td>Cerys</td>\n",
       "      <td>London</td>\n",
       "      <td>Blue</td>\n",
       "      <td>165</td>\n",
       "    </tr>\n",
       "    <tr>\n",
       "      <th>2</th>\n",
       "      <td>Gintare</td>\n",
       "      <td>Aberdeen</td>\n",
       "      <td>Orange</td>\n",
       "      <td>171</td>\n",
       "    </tr>\n",
       "    <tr>\n",
       "      <th>3</th>\n",
       "      <td>Katie</td>\n",
       "      <td>Edinburgh</td>\n",
       "      <td>Pink</td>\n",
       "      <td>168</td>\n",
       "    </tr>\n",
       "  </tbody>\n",
       "</table>\n",
       "</div>"
      ],
      "text/plain": [
       "      name       city favourite_colour  height\n",
       "0   Roisin     London            Green     160\n",
       "1    Cerys     London             Blue     165\n",
       "2  Gintare   Aberdeen           Orange     171\n",
       "3    Katie  Edinburgh             Pink     168"
      ]
     },
     "metadata": {},
     "output_type": "display_data"
    }
   ],
   "source": [
    "# Once we have a dataframe, we can view the whole thing using the display() function\n",
    "# This is a bit like print, but gives the output in a nicer format\n",
    "display(df)"
   ]
  },
  {
   "cell_type": "code",
   "execution_count": 88,
   "metadata": {},
   "outputs": [
    {
     "data": {
      "text/html": [
       "<div>\n",
       "<style scoped>\n",
       "    .dataframe tbody tr th:only-of-type {\n",
       "        vertical-align: middle;\n",
       "    }\n",
       "\n",
       "    .dataframe tbody tr th {\n",
       "        vertical-align: top;\n",
       "    }\n",
       "\n",
       "    .dataframe thead th {\n",
       "        text-align: right;\n",
       "    }\n",
       "</style>\n",
       "<table border=\"1\" class=\"dataframe\">\n",
       "  <thead>\n",
       "    <tr style=\"text-align: right;\">\n",
       "      <th></th>\n",
       "      <th>name</th>\n",
       "      <th>city</th>\n",
       "      <th>favourite_colour</th>\n",
       "      <th>height</th>\n",
       "    </tr>\n",
       "  </thead>\n",
       "  <tbody>\n",
       "    <tr>\n",
       "      <th>count</th>\n",
       "      <td>4</td>\n",
       "      <td>4</td>\n",
       "      <td>4</td>\n",
       "      <td>4.000000</td>\n",
       "    </tr>\n",
       "    <tr>\n",
       "      <th>unique</th>\n",
       "      <td>4</td>\n",
       "      <td>3</td>\n",
       "      <td>4</td>\n",
       "      <td>NaN</td>\n",
       "    </tr>\n",
       "    <tr>\n",
       "      <th>top</th>\n",
       "      <td>Roisin</td>\n",
       "      <td>London</td>\n",
       "      <td>Blue</td>\n",
       "      <td>NaN</td>\n",
       "    </tr>\n",
       "    <tr>\n",
       "      <th>freq</th>\n",
       "      <td>1</td>\n",
       "      <td>2</td>\n",
       "      <td>1</td>\n",
       "      <td>NaN</td>\n",
       "    </tr>\n",
       "    <tr>\n",
       "      <th>mean</th>\n",
       "      <td>NaN</td>\n",
       "      <td>NaN</td>\n",
       "      <td>NaN</td>\n",
       "      <td>166.000000</td>\n",
       "    </tr>\n",
       "    <tr>\n",
       "      <th>std</th>\n",
       "      <td>NaN</td>\n",
       "      <td>NaN</td>\n",
       "      <td>NaN</td>\n",
       "      <td>4.690416</td>\n",
       "    </tr>\n",
       "    <tr>\n",
       "      <th>min</th>\n",
       "      <td>NaN</td>\n",
       "      <td>NaN</td>\n",
       "      <td>NaN</td>\n",
       "      <td>160.000000</td>\n",
       "    </tr>\n",
       "    <tr>\n",
       "      <th>25%</th>\n",
       "      <td>NaN</td>\n",
       "      <td>NaN</td>\n",
       "      <td>NaN</td>\n",
       "      <td>163.750000</td>\n",
       "    </tr>\n",
       "    <tr>\n",
       "      <th>50%</th>\n",
       "      <td>NaN</td>\n",
       "      <td>NaN</td>\n",
       "      <td>NaN</td>\n",
       "      <td>166.500000</td>\n",
       "    </tr>\n",
       "    <tr>\n",
       "      <th>75%</th>\n",
       "      <td>NaN</td>\n",
       "      <td>NaN</td>\n",
       "      <td>NaN</td>\n",
       "      <td>168.750000</td>\n",
       "    </tr>\n",
       "    <tr>\n",
       "      <th>max</th>\n",
       "      <td>NaN</td>\n",
       "      <td>NaN</td>\n",
       "      <td>NaN</td>\n",
       "      <td>171.000000</td>\n",
       "    </tr>\n",
       "  </tbody>\n",
       "</table>\n",
       "</div>"
      ],
      "text/plain": [
       "          name    city favourite_colour      height\n",
       "count        4       4                4    4.000000\n",
       "unique       4       3                4         NaN\n",
       "top     Roisin  London             Blue         NaN\n",
       "freq         1       2                1         NaN\n",
       "mean       NaN     NaN              NaN  166.000000\n",
       "std        NaN     NaN              NaN    4.690416\n",
       "min        NaN     NaN              NaN  160.000000\n",
       "25%        NaN     NaN              NaN  163.750000\n",
       "50%        NaN     NaN              NaN  166.500000\n",
       "75%        NaN     NaN              NaN  168.750000\n",
       "max        NaN     NaN              NaN  171.000000"
      ]
     },
     "execution_count": 88,
     "metadata": {},
     "output_type": "execute_result"
    }
   ],
   "source": []
  }
 ],
 "metadata": {
  "celltoolbar": "Raw Cell Format",
  "kernelspec": {
   "display_name": "Python 3",
   "language": "python",
   "name": "python3"
  },
  "language_info": {
   "codemirror_mode": {
    "name": "ipython",
    "version": 3
   },
   "file_extension": ".py",
   "mimetype": "text/x-python",
   "name": "python",
   "nbconvert_exporter": "python",
   "pygments_lexer": "ipython3",
   "version": "3.8.3"
  }
 },
 "nbformat": 4,
 "nbformat_minor": 4
}
